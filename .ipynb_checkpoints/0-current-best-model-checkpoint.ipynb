{
 "cells": [
  {
   "cell_type": "code",
   "execution_count": null,
   "metadata": {},
   "outputs": [],
   "source": [
    "# epochs: 1000\n",
    "# val_loss: 13.937765464933692\n",
    "# regularization: <function l1 at 0x1a25311bf8> \n",
    "# lambda: 0.005\n",
    "# dropout: 0.25\n",
    "# hidden layers: 0\n",
    "\n",
    "network = Sequential()\n",
    "\n",
    "\n",
    "network.add(Dense(units=Xs_train.shape[1],\n",
    "                  activation=\"relu\",\n",
    "                  input_dim=Xs_train.shape[1],\n",
    "                  kernel_regularizer=regularizers.l1(.005)))\n",
    "network.add(Dropout(.25))\n",
    "\n",
    "\n",
    "network.add(Dense(units=1,\n",
    "                  activation=None,\n",
    "                  kernel_regularizer=regularizers.l1(.005)))\n",
    "\n",
    "network.compile(loss=\"mean_absolute_error\", optimizer=\"adam\")\n",
    "\n",
    "network.fit(Xs_train, y_train, validation_data=(Xs_test, y_test), epochs=1000)"
   ]
  }
 ],
 "metadata": {
  "kernelspec": {
   "display_name": "Python 3",
   "language": "python",
   "name": "python3"
  },
  "language_info": {
   "codemirror_mode": {
    "name": "ipython",
    "version": 3
   },
   "file_extension": ".py",
   "mimetype": "text/x-python",
   "name": "python",
   "nbconvert_exporter": "python",
   "pygments_lexer": "ipython3",
   "version": "3.6.5"
  }
 },
 "nbformat": 4,
 "nbformat_minor": 2
}
